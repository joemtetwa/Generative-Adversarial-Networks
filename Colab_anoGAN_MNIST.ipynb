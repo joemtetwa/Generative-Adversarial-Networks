{
  "nbformat": 4,
  "nbformat_minor": 0,
  "metadata": {
    "kernelspec": {
      "name": "python3",
      "display_name": "Python 3"
    },
    "colab": {
      "name": "Copy of anoGAN_MNIST.ipynb",
      "provenance": [],
      "toc_visible": true
    },
    "accelerator": "GPU"
  },
  "cells": [
    {
      "cell_type": "markdown",
      "metadata": {
        "id": "fgfrN16XgPjZ"
      },
      "source": [
        "## Keras implementation of AnoGAN \n",
        "\n",
        "https://arxiv.org/abs/1703.05921\n",
        "\n",
        "<b> Abstract </b>\n",
        "\n",
        "질병의 예후를 모니터링하기 위해 이미지 마커를 잡아내는 모델을 얻는 것은 매우 어려운 일이다. 보통의 모델은 자동 감지를 위해 알려진 마커의 주석이 달린 예제를 사용하여 많은 양의 데이터를 기반으로 한다. 주석처리(라벨링) 작업과 이미 알려진 것들에 대해서만 탐지 가능하다는 점은 그런 방식의 단점을 작용한다 이 논문은 이미지에서 어노말리를 찾기 위해 비지도학습 이용하다. 우리가 제안한 anoGAN은 정상적인 변동성의 다양함(정상 데이텅의 분포)를 학습한 DCGAN과 이미지 공간에서 잠재공간으로의 매핑방식을 기반으로 어노말리 스코어를 계산한다. 새로운 데이터에 적용했을때 모델은 어노말리와 어노말리 스코어를 계산한다. 이 방식을 망막의 광학 단층 촬영 영상에 적용한 결과, 망막 유체 또는 반사성 초점을 포함하는 이미지와 같은 변칙적인 영상(어노말리)을 정확하게 식별함을 확인하였다.\n",
        "\n",
        "\n",
        "![anoGAN](https://github.com/yjucho1/anoGAN/blob/master/assets/anoGAN.png?raw=1)\n",
        "\n",
        "<b> 1.train DCGAN with normal image </b>\n",
        "* Radford, A., Metz, L., Chintala, S.: Unsupervised representation learning with deep convolutional generative adversarial networks. arXiv:1511.06434 (2015)\n",
        "\n",
        "<b> 2.Mapping new Images to the Latent Space </b>\n",
        "* 신규데이터(a query image x)가 들어오면 우리는 신규이미지 x와 시각적으로 가장 유사한 이미지 G(z)에 대응하는 z를 찾는 것이 목적이다. \n",
        "* best z를 찾기위해 처음에는 랜덤하게 뽑은 z1를 학습된 generator에 입력값으로 넣어 G(z1)를 얻는다.\n",
        "* G(z1)를 기준으로 loss를 계산한다. 이때 loss는 latent space에서 z1이 z2로 이동을 의미하는 z1의 coefficient를 업데이트할 그래디언트 역할을 한다. (z2 = c * z1, c는 backpropagation을 통해 결정)\n",
        "* 신규데이터와 가장 유사한 G(z)를 찾기 위해, latent space에서 z의 위치는 역전파를 통한 반복적인 계산을 통해 최적화된다. (500 backpropagation steps)\n",
        "\n",
        "    <b> 2.1 loss </b>\n",
        "    - z를 최적화기위해 사용한 loss는 2가지로 구성된다. \n",
        "    - residual loss : G(z)와 x와의 차이값 \n",
        "    ![residual_loss](https://github.com/yjucho1/anoGAN/blob/master/assets/residual.png?raw=1)\n",
        "    - discrimination loss : discriminator의 중간레이어 결과값의 차이\n",
        "    ![discrimination_loss](https://github.com/yjucho1/anoGAN/blob/master/assets/discrimination.png?raw=1)\n",
        "        f(·) : output of an intermediate layer  of the discriminator \n",
        "    - overall loss : residual loss와 discrimination loss의 가중합 (논문에서 사용한 람다=0.1)\n",
        "    ![overall_loss](https://github.com/yjucho1/anoGAN/blob/master/assets/overall.png?raw=1)\n",
        "\n",
        "<b> 3.anomaly score </b>\n",
        "* 2의 맵핑과정을 통해 최종적으로 얻은 loss값을 사용한다\n",
        "* 또한 신규이미지에서 anomaly의 영역을 규명하기위해 가장 유사한 이미지와 신규이미지와의 차이 이미지(residual image)를 사용하였다. \n",
        "![residual_img](https://github.com/yjucho1/anoGAN/blob/master/assets/residual_img.png?raw=1)\n",
        "\n",
        "\n",
        "![anoGAN2](https://github.com/yjucho1/anoGAN/blob/master/assets/anoGAN2.png?raw=1)\n",
        "\n",
        "\n"
      ]
    },
    {
      "cell_type": "code",
      "metadata": {
        "id": "lw-ZrKCio6EO"
      },
      "source": [
        "from keras.models import Sequential, Model\n",
        "from keras.layers import Input, Reshape, Dense, Dropout, UpSampling2D, Conv2D, Flatten\n",
        "from keras.layers.advanced_activations import LeakyReLU\n",
        "from keras.optimizers import Adam\n",
        "from keras import backend as K\n",
        "from keras import initializers\n",
        "import tensorflow as tf\n",
        "import numpy as np\n",
        "from tqdm import tqdm\n",
        "\n",
        "def generator_model():\n",
        "    generator = Sequential()\n",
        "    generator.add(Dense(128*7*7, input_dim=100, kernel_initializer=initializers.RandomNormal(stddev=0.02)))\n",
        "    generator.add(LeakyReLU(0.2))\n",
        "    generator.add(Reshape((7, 7, 128)))\n",
        "    generator.add(UpSampling2D(size=(2, 2)))\n",
        "    generator.add(Conv2D(64, kernel_size=(5, 5), padding='same'))\n",
        "    generator.add(LeakyReLU(0.2))\n",
        "    generator.add(UpSampling2D(size=(2, 2)))\n",
        "    generator.add(Conv2D(1, kernel_size=(5, 5), padding='same', activation='tanh'))\n",
        "    generator.compile(loss='binary_crossentropy', optimizer='adam')\n",
        "    return generator\n",
        "\n",
        "\n",
        "def discriminator_model():\n",
        "    discriminator = Sequential()\n",
        "    discriminator.add(Conv2D(64, kernel_size=(5, 5), strides=(2, 2), padding='same', input_shape=(28,28, 1), kernel_initializer=initializers.RandomNormal(stddev=0.02)))\n",
        "    discriminator.add(LeakyReLU(0.2))\n",
        "    discriminator.add(Dropout(0.3))\n",
        "    discriminator.add(Conv2D(128, kernel_size=(5, 5), strides=(2, 2), padding='same'))\n",
        "    discriminator.add(LeakyReLU(0.2))\n",
        "    discriminator.add(Dropout(0.3))\n",
        "    discriminator.add(Flatten())\n",
        "    discriminator.add(Dense(1, activation='sigmoid'))\n",
        "    discriminator.compile(loss='binary_crossentropy', optimizer='adam')\n",
        "    return discriminator\n",
        "\n",
        "\n",
        "def generator_containing_discriminator(g, d):\n",
        "    d.trainable = False\n",
        "    ganInput = Input(shape=(100,))\n",
        "    x = g(ganInput)\n",
        "    ganOutput = d(x)\n",
        "    gan = Model(inputs=ganInput, outputs=ganOutput)\n",
        "    gan.compile(loss='binary_crossentropy', optimizer='adam')\n",
        "    return gan\n",
        "\n",
        "def train(BATCH_SIZE, X_train):\n",
        "    d = discriminator_model()\n",
        "    print(\"#### discriminator ######\")\n",
        "    d.summary()\n",
        "    g = generator_model()\n",
        "    print(\"#### generator ######\")\n",
        "    g.summary()\n",
        "    d_on_g = generator_containing_discriminator(g, d)\n",
        "    d.trainable = True\n",
        "    for epoch in tqdm(range(10)):\n",
        "        for index in range(int(X_train.shape[0]/BATCH_SIZE)):\n",
        "            noise = np.random.uniform(0, 1, size=(BATCH_SIZE, 100))\n",
        "            image_batch = X_train[index*BATCH_SIZE:(index+1)*BATCH_SIZE]\n",
        "            generated_images = g.predict(noise, verbose=0)\n",
        "            X = np.concatenate((image_batch, generated_images))\n",
        "            y = np.array([1] * BATCH_SIZE + [0] * BATCH_SIZE)\n",
        "            d_loss = d.train_on_batch(X, y)\n",
        "            noise = np.random.uniform(0, 1, (BATCH_SIZE, 100))\n",
        "            d.trainable = False\n",
        "            g_loss = d_on_g.train_on_batch(noise, np.array([1] * BATCH_SIZE))\n",
        "            d.trainable = True\n",
        "        g.save_weights('assets/generator', True)\n",
        "        d.save_weights('assets/discriminator', True)\n",
        "    return d, g\n",
        "\n",
        "\n",
        "def generate(BATCH_SIZE):\n",
        "    g = generator_model()\n",
        "    g.load_weights('assets/generator')\n",
        "    noise = np.random.uniform(0, 1, (BATCH_SIZE, 100))\n",
        "    generated_images = g.predict(noise)\n",
        "    return generated_images\n",
        "\n",
        "def sum_of_residual(y_true, y_pred):\n",
        "    return tf.reduce_sum(abs(y_true - y_pred))\n",
        "\n",
        "def feature_extractor():\n",
        "    d = discriminator_model()\n",
        "    d.load_weights('assets/discriminator') \n",
        "    intermidiate_model = Model(inputs=d.layers[0].input, outputs=d.layers[-5].output)\n",
        "    intermidiate_model.compile(loss='binary_crossentropy', optimizer='adam')\n",
        "    return intermidiate_model\n",
        "\n",
        "def anomaly_detector():\n",
        "    g = generator_model()\n",
        "    g.load_weights('assets/generator')\n",
        "    g.trainable = False\n",
        "    intermidiate_model = feature_extractor()\n",
        "    intermidiate_model.trainable = False\n",
        "    \n",
        "    aInput = Input(shape=(100,))\n",
        "    gInput = Dense((100))(aInput)\n",
        "    G_out = g(gInput)\n",
        "    D_out= intermidiate_model(G_out)    \n",
        "    model = Model(inputs=aInput, outputs=[G_out, D_out])\n",
        "    model.compile(loss=sum_of_residual, loss_weights= [0.9, 0.1], optimizer='adam')\n",
        "    return model\n",
        "\n",
        "def compute_anomaly_score(model, x):    \n",
        "    z = np.random.uniform(0, 1, size=(1, 100))\n",
        "    intermidiate_model = feature_extractor()\n",
        "    d_x = intermidiate_model.predict(x)\n",
        "    loss = model.fit(z, [x, d_x], epochs=500, verbose=0)\n",
        "    similar_data, _ = model.predict(z)\n",
        "    return loss.history['loss'][-1], similar_data"
      ],
      "execution_count": null,
      "outputs": []
    },
    {
      "cell_type": "code",
      "metadata": {
        "scrolled": false,
        "id": "afNXdJ0RgPje",
        "outputId": "c03ca16b-8a79-4081-cbee-c946014f31d9",
        "colab": {
          "base_uri": "https://localhost:8080/",
          "height": 954
        }
      },
      "source": [
        "import numpy as np\n",
        "import matplotlib.pyplot as plt\n",
        "from keras.datasets import mnist\n",
        "from tqdm import tqdm\n",
        "#import anogan\n",
        "\n",
        "(X_train, y_train), (X_test, y_test) = mnist.load_data()\n",
        "X_train = X_train.astype(np.float32)/255.\n",
        "X_train = X_train.reshape(60000, 28, 28, 1)\n",
        "\n",
        "\n",
        "Model_d, Model_g = train(32, X_train) #anogan.train(32, X_train)"
      ],
      "execution_count": null,
      "outputs": [
        {
          "output_type": "stream",
          "text": [
            "\r  0%|          | 0/10 [00:00<?, ?it/s]"
          ],
          "name": "stderr"
        },
        {
          "output_type": "stream",
          "text": [
            "#### discriminator ######\n",
            "Model: \"sequential\"\n",
            "_________________________________________________________________\n",
            "Layer (type)                 Output Shape              Param #   \n",
            "=================================================================\n",
            "conv2d (Conv2D)              (None, 14, 14, 64)        1664      \n",
            "_________________________________________________________________\n",
            "leaky_re_lu (LeakyReLU)      (None, 14, 14, 64)        0         \n",
            "_________________________________________________________________\n",
            "dropout (Dropout)            (None, 14, 14, 64)        0         \n",
            "_________________________________________________________________\n",
            "conv2d_1 (Conv2D)            (None, 7, 7, 128)         204928    \n",
            "_________________________________________________________________\n",
            "leaky_re_lu_1 (LeakyReLU)    (None, 7, 7, 128)         0         \n",
            "_________________________________________________________________\n",
            "dropout_1 (Dropout)          (None, 7, 7, 128)         0         \n",
            "_________________________________________________________________\n",
            "flatten (Flatten)            (None, 6272)              0         \n",
            "_________________________________________________________________\n",
            "dense (Dense)                (None, 1)                 6273      \n",
            "=================================================================\n",
            "Total params: 212,865\n",
            "Trainable params: 212,865\n",
            "Non-trainable params: 0\n",
            "_________________________________________________________________\n",
            "#### generator ######\n",
            "Model: \"sequential_1\"\n",
            "_________________________________________________________________\n",
            "Layer (type)                 Output Shape              Param #   \n",
            "=================================================================\n",
            "dense_1 (Dense)              (None, 6272)              633472    \n",
            "_________________________________________________________________\n",
            "leaky_re_lu_2 (LeakyReLU)    (None, 6272)              0         \n",
            "_________________________________________________________________\n",
            "reshape (Reshape)            (None, 7, 7, 128)         0         \n",
            "_________________________________________________________________\n",
            "up_sampling2d (UpSampling2D) (None, 14, 14, 128)       0         \n",
            "_________________________________________________________________\n",
            "conv2d_2 (Conv2D)            (None, 14, 14, 64)        204864    \n",
            "_________________________________________________________________\n",
            "leaky_re_lu_3 (LeakyReLU)    (None, 14, 14, 64)        0         \n",
            "_________________________________________________________________\n",
            "up_sampling2d_1 (UpSampling2 (None, 28, 28, 64)        0         \n",
            "_________________________________________________________________\n",
            "conv2d_3 (Conv2D)            (None, 28, 28, 1)         1601      \n",
            "=================================================================\n",
            "Total params: 839,937\n",
            "Trainable params: 839,937\n",
            "Non-trainable params: 0\n",
            "_________________________________________________________________\n"
          ],
          "name": "stdout"
        },
        {
          "output_type": "stream",
          "text": [
            "100%|██████████| 10/10 [21:27<00:00, 128.80s/it]\n"
          ],
          "name": "stderr"
        }
      ]
    },
    {
      "cell_type": "code",
      "metadata": {
        "id": "o6f3dKaagPjx",
        "outputId": "0d428761-f401-4627-b5c3-88b9108ade6d",
        "colab": {
          "base_uri": "https://localhost:8080/",
          "height": 159
        }
      },
      "source": [
        "## generate random image \n",
        "\n",
        "generated_img = generate(3)\n",
        "plt.figure(figsize=(2, 2))\n",
        "plt.imshow(generated_img[0].reshape(28, 28),cmap=plt.cm.gray)\n",
        "plt.show()"
      ],
      "execution_count": null,
      "outputs": [
        {
          "output_type": "display_data",
          "data": {
            "image/png": "[encoded data removed]",
            "text/plain": [
              "<Figure size 144x144 with 1 Axes>"
            ]
          },
          "metadata": {
            "tags": [],
            "needs_background": "light"
          }
        }
      ]
    },
    {
      "cell_type": "code",
      "metadata": {
        "id": "dhjlQnJggPkF",
        "outputId": "88c620d0-1f01-4044-8860-2e62b7866eb3",
        "colab": {
          "base_uri": "https://localhost:8080/",
          "height": 560
        }
      },
      "source": [
        "## compute anomaly score - sample from test set\n",
        "\n",
        "X_test = X_test.astype(np.float32)/255.\n",
        "X_test = X_test.reshape(-1, 28, 28, 1)\n",
        "test_img = X_test[1]#0\n",
        "\n",
        "model = anomaly_detector()\n",
        "ano_score, similar_img = compute_anomaly_score(model, test_img.reshape(1, 28, 28, 1))\n",
        "\n",
        "plt.figure(figsize=(2, 2))\n",
        "plt.imshow(test_img.reshape(28,28), cmap=plt.cm.gray)\n",
        "plt.show()\n",
        "print(\"anomaly score : \" + str(ano_score))\n",
        "plt.figure(figsize=(2, 2))\n",
        "plt.imshow(test_img.reshape(28,28), cmap=plt.cm.gray)\n",
        "residual  = test_img.reshape(28,28) - similar_img.reshape(28, 28)\n",
        "plt.imshow(residual, cmap='jet', alpha=.5)\n",
        "plt.show()"
      ],
      "execution_count": null,
      "outputs": [
        {
          "output_type": "stream",
          "text": [
            "WARNING:tensorflow:Unresolved object in checkpoint: (root).optimizer.iter\n",
            "WARNING:tensorflow:Unresolved object in checkpoint: (root).optimizer.beta_1\n",
            "WARNING:tensorflow:Unresolved object in checkpoint: (root).optimizer.beta_2\n",
            "WARNING:tensorflow:Unresolved object in checkpoint: (root).optimizer.decay\n",
            "WARNING:tensorflow:Unresolved object in checkpoint: (root).optimizer.learning_rate\n",
            "WARNING:tensorflow:A checkpoint was restored (e.g. tf.train.Checkpoint.restore or tf.keras.Model.load_weights) but not all checkpointed values were used. See above for specific issues. Use expect_partial() on the load status object, e.g. tf.train.Checkpoint.restore(...).expect_partial(), to silence these warnings, or use assert_consumed() to make the check explicit. See https://www.tensorflow.org/guide/checkpoint#loading_mechanics for details.\n",
            "WARNING:tensorflow:Unresolved object in checkpoint: (root).optimizer.iter\n",
            "WARNING:tensorflow:Unresolved object in checkpoint: (root).optimizer.beta_1\n",
            "WARNING:tensorflow:Unresolved object in checkpoint: (root).optimizer.beta_2\n",
            "WARNING:tensorflow:Unresolved object in checkpoint: (root).optimizer.decay\n",
            "WARNING:tensorflow:Unresolved object in checkpoint: (root).optimizer.learning_rate\n",
            "WARNING:tensorflow:A checkpoint was restored (e.g. tf.train.Checkpoint.restore or tf.keras.Model.load_weights) but not all checkpointed values were used. See above for specific issues. Use expect_partial() on the load status object, e.g. tf.train.Checkpoint.restore(...).expect_partial(), to silence these warnings, or use assert_consumed() to make the check explicit. See https://www.tensorflow.org/guide/checkpoint#loading_mechanics for details.\n"
          ],
          "name": "stdout"
        },
        {
          "output_type": "display_data",
          "data": {
            "image/png": "[encoded data removed]",
            "text/plain": [
              "<Figure size 144x144 with 1 Axes>"
            ]
          },
          "metadata": {
            "tags": [],
            "needs_background": "light"
          }
        },
        {
          "output_type": "stream",
          "text": [
            "anomaly score : 21.388147354125977\n"
          ],
          "name": "stdout"
        },
        {
          "output_type": "display_data",
          "data": {
            "image/png": "[encoded data removed]",
            "text/plain": [
              "<Figure size 144x144 with 1 Axes>"
            ]
          },
          "metadata": {
            "tags": [],
            "needs_background": "light"
          }
        }
      ]
    },
    {
      "cell_type": "code",
      "metadata": {
        "id": "PKC3hZhYgPkS",
        "outputId": "658ff8ac-2148-498e-dac7-8b080e2a1046",
        "colab": {
          "base_uri": "https://localhost:8080/",
          "height": 725
        }
      },
      "source": [
        "## compute anomaly score - sample from strange image\n",
        "\n",
        "from keras.datasets import fashion_mnist\n",
        "\n",
        "(X_train, y_train), (X_test, y_test) = fashion_mnist.load_data()\n",
        "X_train = X_train.astype(np.float32)/255.\n",
        "X_train = X_train.reshape(60000, 28, 28, 1)\n",
        "\n",
        "\n",
        "#test_img = plt.imread('anoGAN/assets/residual.png') #plt.imread('anoGAN/assets/test_img.png')\n",
        "test_img = X_train[0] #test_img[:,:,0]\n",
        "\n",
        "model = anomaly_detector()\n",
        "ano_score, similar_img = compute_anomaly_score(model, test_img.reshape(1, 28, 28, 1))\n",
        "\n",
        "plt.figure(figsize=(2, 2))\n",
        "plt.imshow(test_img.reshape(28,28), cmap=plt.cm.gray)\n",
        "plt.show()\n",
        "print(\"anomaly score : \" + str(ano_score))\n",
        "plt.figure(figsize=(2, 2))\n",
        "plt.imshow(test_img.reshape(28,28), cmap=plt.cm.gray)\n",
        "residual  = test_img.reshape(28,28) - similar_img.reshape(28, 28)\n",
        "plt.imshow(residual, cmap='jet', alpha=.5)\n",
        "plt.show()\n"
      ],
      "execution_count": null,
      "outputs": [
        {
          "output_type": "stream",
          "text": [
            "Downloading data from https://storage.googleapis.com/tensorflow/tf-keras-datasets/train-labels-idx1-ubyte.gz\n",
            "32768/29515 [=================================] - 0s 0us/step\n",
            "Downloading data from https://storage.googleapis.com/tensorflow/tf-keras-datasets/train-images-idx3-ubyte.gz\n",
            "26427392/26421880 [==============================] - 1s 0us/step\n",
            "Downloading data from https://storage.googleapis.com/tensorflow/tf-keras-datasets/t10k-labels-idx1-ubyte.gz\n",
            "8192/5148 [===============================================] - 0s 0us/step\n",
            "Downloading data from https://storage.googleapis.com/tensorflow/tf-keras-datasets/t10k-images-idx3-ubyte.gz\n",
            "4423680/4422102 [==============================] - 0s 0us/step\n",
            "WARNING:tensorflow:Unresolved object in checkpoint: (root).optimizer.iter\n",
            "WARNING:tensorflow:Unresolved object in checkpoint: (root).optimizer.beta_1\n",
            "WARNING:tensorflow:Unresolved object in checkpoint: (root).optimizer.beta_2\n",
            "WARNING:tensorflow:Unresolved object in checkpoint: (root).optimizer.decay\n",
            "WARNING:tensorflow:Unresolved object in checkpoint: (root).optimizer.learning_rate\n",
            "WARNING:tensorflow:A checkpoint was restored (e.g. tf.train.Checkpoint.restore or tf.keras.Model.load_weights) but not all checkpointed values were used. See above for specific issues. Use expect_partial() on the load status object, e.g. tf.train.Checkpoint.restore(...).expect_partial(), to silence these warnings, or use assert_consumed() to make the check explicit. See https://www.tensorflow.org/guide/checkpoint#loading_mechanics for details.\n",
            "WARNING:tensorflow:Unresolved object in checkpoint: (root).optimizer.iter\n",
            "WARNING:tensorflow:Unresolved object in checkpoint: (root).optimizer.beta_1\n",
            "WARNING:tensorflow:Unresolved object in checkpoint: (root).optimizer.beta_2\n",
            "WARNING:tensorflow:Unresolved object in checkpoint: (root).optimizer.decay\n",
            "WARNING:tensorflow:Unresolved object in checkpoint: (root).optimizer.learning_rate\n",
            "WARNING:tensorflow:A checkpoint was restored (e.g. tf.train.Checkpoint.restore or tf.keras.Model.load_weights) but not all checkpointed values were used. See above for specific issues. Use expect_partial() on the load status object, e.g. tf.train.Checkpoint.restore(...).expect_partial(), to silence these warnings, or use assert_consumed() to make the check explicit. See https://www.tensorflow.org/guide/checkpoint#loading_mechanics for details.\n",
            "WARNING:tensorflow:5 out of the last 18 calls to <function Model.make_predict_function.<locals>.predict_function at 0x7f981a6757b8> triggered tf.function retracing. Tracing is expensive and the excessive number of tracings could be due to (1) creating @tf.function repeatedly in a loop, (2) passing tensors with different shapes, (3) passing Python objects instead of tensors. For (1), please define your @tf.function outside of the loop. For (2), @tf.function has experimental_relax_shapes=True option that relaxes argument shapes that can avoid unnecessary retracing. For (3), please refer to https://www.tensorflow.org/tutorials/customization/performance#python_or_tensor_args and https://www.tensorflow.org/api_docs/python/tf/function for  more details.\n"
          ],
          "name": "stdout"
        },
        {
          "output_type": "display_data",
          "data": {
            "image/png": "[encoded data removed]",
            "text/plain": [
              "<Figure size 144x144 with 1 Axes>"
            ]
          },
          "metadata": {
            "tags": [],
            "needs_background": "light"
          }
        },
        {
          "output_type": "stream",
          "text": [
            "anomaly score : 665.8314208984375\n"
          ],
          "name": "stdout"
        },
        {
          "output_type": "display_data",
          "data": {
            "image/png": "[encoded data removed]",
            "text/plain": [
              "<Figure size 144x144 with 1 Axes>"
            ]
          },
          "metadata": {
            "tags": [],
            "needs_background": "light"
          }
        }
      ]
    },
    {
      "cell_type": "code",
      "metadata": {
        "id": "JQbspwIsgPke",
        "outputId": "26f89b76-8971-4913-c784-174ebb3a8d1c",
        "colab": {
          "base_uri": "https://localhost:8080/",
          "height": 627
        }
      },
      "source": [
        "from sklearn.manifold import TSNE\n",
        "\n",
        "## t-SNE embedding \n",
        "\n",
        "# generating anomaly image for test (radom noise image)\n",
        "\n",
        "random_image = np.random.uniform(0,1, (100, 28,28, 1))\n",
        "print(\"a sample from generated anomaly images(random noise image)\")\n",
        "plt.figure(figsize=(2, 2))\n",
        "plt.imshow(random_image[0].reshape(28,28), cmap=plt.cm.gray)\n",
        "plt.show()\n",
        "\n",
        "# intermidieate output of discriminator\n",
        "model = feature_extractor()\n",
        "feature_map_of_random = model.predict(random_image, verbose=1)\n",
        "feature_map_of_minist = model.predict(X_test[:300], verbose=1)\n",
        "\n",
        "# t-SNE for visulization\n",
        "output = np.concatenate((feature_map_of_random, feature_map_of_minist))\n",
        "output = output.reshape(output.shape[0], -1)\n",
        "anomaly_flag = np.array([1]*100+ [0]*300)\n",
        "\n",
        "X_embedded = TSNE(n_components=2).fit_transform(output)\n",
        "plt.title(\"t-SNE embedding on the feature representation\")\n",
        "plt.scatter(X_embedded[:100,0], X_embedded[:100,1], label='random noise(anomaly)')\n",
        "plt.scatter(X_embedded[100:,0], X_embedded[100:,1], label='minist(normal)')\n",
        "plt.legend()\n",
        "plt.show()"
      ],
      "execution_count": null,
      "outputs": [
        {
          "output_type": "stream",
          "text": [
            "a sample from generated anomaly images(random noise image)\n"
          ],
          "name": "stdout"
        },
        {
          "output_type": "display_data",
          "data": {
            "image/png": "[encoded data removed]",
            "text/plain": [
              "<Figure size 144x144 with 1 Axes>"
            ]
          },
          "metadata": {
            "tags": [],
            "needs_background": "light"
          }
        },
        {
          "output_type": "stream",
          "text": [
            "WARNING:tensorflow:Unresolved object in checkpoint: (root).optimizer.iter\n",
            "WARNING:tensorflow:Unresolved object in checkpoint: (root).optimizer.beta_1\n",
            "WARNING:tensorflow:Unresolved object in checkpoint: (root).optimizer.beta_2\n",
            "WARNING:tensorflow:Unresolved object in checkpoint: (root).optimizer.decay\n",
            "WARNING:tensorflow:Unresolved object in checkpoint: (root).optimizer.learning_rate\n",
            "WARNING:tensorflow:A checkpoint was restored (e.g. tf.train.Checkpoint.restore or tf.keras.Model.load_weights) but not all checkpointed values were used. See above for specific issues. Use expect_partial() on the load status object, e.g. tf.train.Checkpoint.restore(...).expect_partial(), to silence these warnings, or use assert_consumed() to make the check explicit. See https://www.tensorflow.org/guide/checkpoint#loading_mechanics for details.\n",
            "WARNING:tensorflow:7 out of the last 18756 calls to <function Model.make_predict_function.<locals>.predict_function at 0x7f980bb38d08> triggered tf.function retracing. Tracing is expensive and the excessive number of tracings could be due to (1) creating @tf.function repeatedly in a loop, (2) passing tensors with different shapes, (3) passing Python objects instead of tensors. For (1), please define your @tf.function outside of the loop. For (2), @tf.function has experimental_relax_shapes=True option that relaxes argument shapes that can avoid unnecessary retracing. For (3), please refer to https://www.tensorflow.org/tutorials/customization/performance#python_or_tensor_args and https://www.tensorflow.org/api_docs/python/tf/function for  more details.\n",
            "4/4 [==============================] - 0s 8ms/step\n",
            "10/10 [==============================] - 0s 6ms/step\n"
          ],
          "name": "stdout"
        },
        {
          "output_type": "display_data",
          "data": {
            "image/png": "[encoded data removed]",
            "text/plain": [
              "<Figure size 432x288 with 1 Axes>"
            ]
          },
          "metadata": {
            "tags": [],
            "needs_background": "light"
          }
        }
      ]
    },
    {
      "cell_type": "code",
      "metadata": {
        "id": "9gxtBK4hgPkq"
      },
      "source": [
        ""
      ],
      "execution_count": null,
      "outputs": []
    },
    {
      "cell_type": "code",
      "metadata": {
        "id": "vlEqDlqMgPk1"
      },
      "source": [
        ""
      ],
      "execution_count": null,
      "outputs": []
    }
  ]
}