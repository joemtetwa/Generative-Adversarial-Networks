{
 "cells": [
  {
   "attachments": {},
   "cell_type": "markdown",
   "metadata": {},
   "source": [
    "# DCGAN\n",
    "\n",
    "A DCGAN is a direct extension of the GAN described above, except that it explicitly uses convolutional and convolutional-transpose layers in the discriminator and generator, respectively. It was first described by Radford et. al. in the paper Unsupervised Representation Learning With Deep Convolutional Generative Adversarial Networks. The discriminator is made up of strided convolution layers, batch norm layers, and LeakyReLU activations. The input is a 3x64x64 input image and the output is a scalar probability that the input is from the real data distribution. The generator is comprised of convolutional-transpose layers, batch norm layers, and ReLU activations. The input is a latent vector, z, that is drawn from a standard normal distribution and the output is a 3x64x64 RGB image. The strided conv-transpose layers allow the latent vector to be transformed into a volume with the same shape as an image. In the paper, the authors also give some tips about how to setup the optimizers, how to calculate the loss functions, and how to initialize the model weights, all of which will be explained in the coming sections."
   ]
  },
  {
   "cell_type": "code",
   "execution_count": 1,
   "metadata": {},
   "outputs": [
    {
     "name": "stderr",
     "output_type": "stream",
     "text": [
      "/Users/joemtetwa/Library/Python/3.8/lib/python/site-packages/tqdm/auto.py:22: TqdmWarning: IProgress not found. Please update jupyter and ipywidgets. See https://ipywidgets.readthedocs.io/en/stable/user_install.html\n",
      "  from .autonotebook import tqdm as notebook_tqdm\n"
     ]
    },
    {
     "name": "stdout",
     "output_type": "stream",
     "text": [
      "Random Seed:  999\n"
     ]
    },
    {
     "data": {
      "text/plain": [
       "<torch._C.Generator at 0x10b3b67b0>"
      ]
     },
     "execution_count": 1,
     "metadata": {},
     "output_type": "execute_result"
    }
   ],
   "source": [
    "from __future__ import print_function\n",
    "#%matplotlib inline\n",
    "import argparse\n",
    "import os\n",
    "import random\n",
    "import torch\n",
    "import torch.nn as nn\n",
    "import torch.nn.parallel\n",
    "import torch.backends.cudnn as cudnn\n",
    "import torch.optim as optim\n",
    "import torch.utils.data\n",
    "import torchvision.datasets as dset\n",
    "import torchvision.transforms as transforms\n",
    "import torchvision.utils as vutils\n",
    "import numpy as np\n",
    "import matplotlib.pyplot as plt\n",
    "import matplotlib.animation as animation\n",
    "from IPython.display import HTML\n",
    "\n",
    "# Set random seed for reproducibility\n",
    "manualSeed = 999\n",
    "#manualSeed = random.randint(1, 10000) # use if you want new results\n",
    "print(\"Random Seed: \", manualSeed)\n",
    "random.seed(manualSeed)\n",
    "torch.manual_seed(manualSeed)"
   ]
  },
  {
   "attachments": {},
   "cell_type": "markdown",
   "metadata": {},
   "source": [
    "## Inputs\n",
    "------\n",
    "\n",
    "Let’s define some inputs for the run:\n",
    "\n",
    "-  **dataroot** - the path to the root of the dataset folder. We will\n",
    "   talk more about the dataset in the next section\n",
    "-  **workers** - the number of worker threads for loading the data with\n",
    "   the DataLoader\n",
    "-  **batch_size** - the batch size used in training. The DCGAN paper\n",
    "   uses a batch size of 128\n",
    "-  **image_size** - the spatial size of the images used for training.\n",
    "   This implementation defaults to 64x64. If another size is desired,\n",
    "   the structures of D and G must be changed. See\n",
    "   `here <https://github.com/pytorch/examples/issues/70>`__ for more\n",
    "   details\n",
    "-  **nc** - number of color channels in the input images. For color\n",
    "   images this is 3\n",
    "-  **nz** - length of latent vector\n",
    "-  **ngf** - relates to the depth of feature maps carried through the\n",
    "   generator\n",
    "-  **ndf** - sets the depth of feature maps propagated through the\n",
    "   discriminator\n",
    "-  **num_epochs** - number of training epochs to run. Training for\n",
    "   longer will probably lead to better results but will also take much\n",
    "   longer\n",
    "-  **lr** - learning rate for training. As described in the DCGAN paper,\n",
    "   this number should be 0.0002\n",
    "-  **beta1** - beta1 hyperparameter for Adam optimizers. As described in\n",
    "   paper, this number should be 0.5\n",
    "-  **ngpu** - number of GPUs available. If this is 0, code will run in\n",
    "   CPU mode. If this number is greater than 0 it will run on that number\n",
    "   of GPUs\n",
    "\n",
    "\n"
   ]
  },
  {
   "cell_type": "code",
   "execution_count": 2,
   "metadata": {},
   "outputs": [],
   "source": [
    "# Root directory for dataset\n",
    "dataroot = \"data/celeba\"\n",
    "\n",
    "# Number of workers for dataloader\n",
    "workers = 2\n",
    "\n",
    "# Batch size during training\n",
    "batch_size = 128\n",
    "\n",
    "# Spatial size of training images. All images will be resized to this\n",
    "#   size using a transformer.\n",
    "image_size = 64\n",
    "\n",
    "# Number of channels in the training images. For color images this is 3\n",
    "nc = 3\n",
    "\n",
    "# Size of z latent vector (i.e. size of generator input)\n",
    "nz = 100\n",
    "\n",
    "# Size of feature maps in generator\n",
    "ngf = 64\n",
    "\n",
    "# Size of feature maps in discriminator\n",
    "ndf = 64\n",
    "\n",
    "# Number of training epochs\n",
    "num_epochs = 5\n",
    "\n",
    "# Learning rate for optimizers\n",
    "lr = 0.0002\n",
    "\n",
    "# Beta1 hyperparam for Adam optimizers\n",
    "beta1 = 0.5\n",
    "\n",
    "# Number of GPUs available. Use 0 for CPU mode.\n",
    "ngpu = 1"
   ]
  },
  {
   "attachments": {},
   "cell_type": "markdown",
   "metadata": {},
   "source": [
    "## Dataset\n",
    "\n",
    "The Celeb A dataset is a large-scale face attributes dataset consisting of more than 200,000 celebrity images. It is commonly used as a benchmark for image classification, face recognition, and generative modeling tasks. Each image in the dataset is annotated with 40 attributes such as gender, age, and facial hair.\n",
    "\n",
    "The Celeb A dataset can be downloaded from various sources such as the official website or through PyTorch's torchvision module. The images are in JPEG format and have a resolution of 178x218 pixels. The dataset also comes with a pre-defined training and validation split, which is useful for training and evaluating machine learning models.\n",
    "\n",
    "This code block sets up a PyTorch dataloader for the Celeb A dataset. The dataset is created using the ImageFolder class from the torchvision.datasets module. The ImageFolder class expects the images to be organized in subdirectories, where each subdirectory represents a different class. In this case, the root parameter is set to dataroot, which is the directory containing the Celeb A dataset. The transform parameter is set to a series of image transformations, which include resizing, center cropping, converting to a tensor, and normalizing the pixel values to a range of [-1, 1]. The resulting dataset is then loaded into a dataloader using the DataLoader class from the torch.utils.data module. The dataloader is used to feed batches of images to the neural network during training.\n",
    "\n",
    "The code block also sets the device to run on either the GPU or CPU depending on the availability of a GPU and the value of ngpu. Finally, the code block plots a batch of training images using the matplotlib.pyplot module. The vutils.make_grid() function is used to create a grid of images from the batch, which is then displayed using the matplotlib.pyplot.imshow() function."
   ]
  },
  {
   "cell_type": "code",
   "execution_count": null,
   "metadata": {},
   "outputs": [],
   "source": [
    "# We can use an image folder dataset the way we have it setup.\n",
    "# Create the dataset\n",
    "dataset = dset.ImageFolder(root=dataroot,\n",
    "                           transform=transforms.Compose([\n",
    "                               transforms.Resize(image_size),\n",
    "                               transforms.CenterCrop(image_size),\n",
    "                               transforms.ToTensor(),\n",
    "                               transforms.Normalize((0.5, 0.5, 0.5), (0.5, 0.5, 0.5)),\n",
    "                           ]))\n",
    "# Create the dataloader\n",
    "dataloader = torch.utils.data.DataLoader(dataset, batch_size=batch_size,\n",
    "                                         shuffle=True, num_workers=workers)\n",
    "\n",
    "# Decide which device we want to run on\n",
    "device = torch.device(\"cuda:0\" if (torch.cuda.is_available() and ngpu > 0) else \"cpu\")\n",
    "\n",
    "# Plot some training images\n",
    "real_batch = next(iter(dataloader))\n",
    "plt.figure(figsize=(8,8))\n",
    "plt.axis(\"off\")\n",
    "plt.title(\"Training Images\")\n",
    "plt.imshow(np.transpose(vutils.make_grid(real_batch[0].to(device)[:64], padding=2, normalize=True).cpu(),(1,2,0)))"
   ]
  },
  {
   "attachments": {},
   "cell_type": "markdown",
   "metadata": {},
   "source": [
    "## Implementation\n",
    "\n",
    "This code block defines a function weights_init that is used to initialize the weights of the generator and discriminator neural networks. The function takes a module m as input and checks its class name using the __class__.__name__ attribute. If the class name contains the string 'Conv', the weights are initialized using a normal distribution with mean 0 and standard deviation 0.02. If the class name contains the string 'BatchNorm', the weights are initialized with a normal distribution with mean 1 and standard deviation 0.02, and the biases are set to 0. The nn.init module from PyTorch is used to perform the weight initialization.\n",
    "\n",
    "Weight initialization is an important step in training neural networks as it can greatly affect the performance of the model. Initializing the weights with small random values prevents the model from getting stuck in a poor solution during training. The specific method used for weight initialization can vary depending on the architecture and the problem being solved."
   ]
  },
  {
   "cell_type": "markdown",
   "metadata": {},
   "source": []
  },
  {
   "cell_type": "code",
   "execution_count": null,
   "metadata": {},
   "outputs": [],
   "source": [
    "# custom weights initialization called on netG and netD\n",
    "def weights_init(m):\n",
    "    classname = m.__class__.__name__\n",
    "    if classname.find('Conv') != -1:\n",
    "        nn.init.normal_(m.weight.data, 0.0, 0.02)\n",
    "    elif classname.find('BatchNorm') != -1:\n",
    "        nn.init.normal_(m.weight.data, 1.0, 0.02)\n",
    "        nn.init.constant_(m.bias.data, 0)"
   ]
  },
  {
   "attachments": {},
   "cell_type": "markdown",
   "metadata": {},
   "source": [
    "## Generator\n",
    "\n",
    "This code block defines the generator neural network architecture for the DCGAN. The generator takes a random noise vector of size nz as input and produces an image of size nc x 64 x 64 as output.\n",
    "\n",
    "The architecture consists of a series of transpose convolutional layers, also known as deconvolutional layers, that gradually increase the spatial resolution of the feature maps. Each transpose convolutional layer is followed by batch normalization and a rectified linear unit (ReLU) activation function. The output layer uses a tanh activation function to ensure that the pixel values of the generated image are in the range of -1 to 1, which is the same range as the real images in the CelebA dataset.\n",
    "\n",
    "The architecture uses the ngf and nz hyperparameters, which control the number of generator filters and the size of the input noise vector, respectively. The number of filters is doubled at each layer until the desired image size is reached.\n",
    "\n",
    "The ngpu hyperparameter specifies the number of GPUs to use for training. If ngpu > 1, the model will use parallel processing across multiple GPUs. The weights_init function defined earlier can be used to initialize the weights of the convolutional and batch normalization layers in the generator.\n",
    "\n",
    "The forward method takes a batch of random noise vectors as input and passes it through the layers to generate the output image. The main sequential module defines the layers of the generator network. The transpose convolutional layers increase the spatial resolution of the feature maps, while the batch normalization layers help stabilize the learning process. The ReLU activation function is used to introduce non-linearity in the network.\n",
    "\n",
    "The Tanh activation function is used in the last layer of the generator to ensure that the output image has pixel values in the range of -1 to 1, which is the same range as the real images in the CelebA dataset."
   ]
  },
  {
   "cell_type": "code",
   "execution_count": null,
   "metadata": {},
   "outputs": [],
   "source": [
    "# Generator Code\n",
    "\n",
    "class Generator(nn.Module):\n",
    "    def __init__(self, ngpu):\n",
    "        super(Generator, self).__init__()\n",
    "        self.ngpu = ngpu\n",
    "        self.main = nn.Sequential(\n",
    "            # input is Z, going into a convolution\n",
    "            nn.ConvTranspose2d( nz, ngf * 8, 4, 1, 0, bias=False),\n",
    "            nn.BatchNorm2d(ngf * 8),\n",
    "            nn.ReLU(True),\n",
    "            # state size. (ngf*8) x 4 x 4\n",
    "            nn.ConvTranspose2d(ngf * 8, ngf * 4, 4, 2, 1, bias=False),\n",
    "            nn.BatchNorm2d(ngf * 4),\n",
    "            nn.ReLU(True),\n",
    "            # state size. (ngf*4) x 8 x 8\n",
    "            nn.ConvTranspose2d( ngf * 4, ngf * 2, 4, 2, 1, bias=False),\n",
    "            nn.BatchNorm2d(ngf * 2),\n",
    "            nn.ReLU(True),\n",
    "            # state size. (ngf*2) x 16 x 16\n",
    "            nn.ConvTranspose2d( ngf * 2, ngf, 4, 2, 1, bias=False),\n",
    "            nn.BatchNorm2d(ngf),\n",
    "            nn.ReLU(True),\n",
    "            # state size. (ngf) x 32 x 32\n",
    "            nn.ConvTranspose2d( ngf, nc, 4, 2, 1, bias=False),\n",
    "            nn.Tanh()\n",
    "            # state size. (nc) x 64 x 64\n",
    "        )\n",
    "\n",
    "    def forward(self, input):\n",
    "        return self.main(input)"
   ]
  },
  {
   "attachments": {},
   "cell_type": "markdown",
   "metadata": {},
   "source": [
    "The Generator class is initialized with the number of GPUs to be used, which is specified by the ngpu argument. The netG object is created as an instance of this class, and moved to the device specified earlier.\n",
    "\n",
    "If multiple GPUs are available and ngpu is greater than 1, nn.DataParallel is used to parallelize the model across multiple GPUs.\n",
    "\n",
    "The weights_init function is applied to the generator to initialize all weights in the network.\n",
    "\n",
    "Finally, the print function is used to display the architecture of the generator network."
   ]
  },
  {
   "cell_type": "code",
   "execution_count": null,
   "metadata": {},
   "outputs": [],
   "source": [
    "# Create the generator\n",
    "netG = Generator(ngpu).to(device)\n",
    "\n",
    "# Handle multi-gpu if desired\n",
    "if (device.type == 'cuda') and (ngpu > 1):\n",
    "    netG = nn.DataParallel(netG, list(range(ngpu)))\n",
    "\n",
    "# Apply the weights_init function to randomly initialize all weights\n",
    "#  to mean=0, stdev=0.2.\n",
    "netG.apply(weights_init)\n",
    "\n",
    "# Print the model\n",
    "print(netG)"
   ]
  },
  {
   "attachments": {},
   "cell_type": "markdown",
   "metadata": {},
   "source": [
    "## Discriminator\n",
    "\n",
    "This is the implementation of the Discriminator neural network used in the DCGAN architecture.\n",
    "\n",
    "The Discriminator takes an image as input and tries to distinguish if the input image is real or fake. It is implemented as a convolutional neural network with four convolutional layers, each with batch normalization and leaky ReLU activation function. The final layer produces a single scalar output with the Sigmoid function applied, which represents the probability of the input being real or fake.\n",
    "\n",
    "The hyperparameters ndf and nc represent the number of filters and input channels of the first convolutional layer, respectively, and ngpu represents the number of GPUs available for training.\n",
    "\n",
    "The nn.Sequential module is used to define the layers of the Discriminator. Each layer is a tuple consisting of the convolutional layer, batch normalization, and leaky ReLU activation function. The first convolutional layer has a kernel size of 4, a stride of 2, and a padding of 1. The subsequent convolutional layers double the number of filters while keeping the same kernel size and stride. The final convolutional layer produces a single scalar output.\n",
    "\n",
    "The forward function takes the input image and passes it through the layers of the network to produce the output.\n"
   ]
  },
  {
   "cell_type": "code",
   "execution_count": 3,
   "metadata": {},
   "outputs": [],
   "source": [
    "class Discriminator(nn.Module):\n",
    "    def __init__(self, ngpu):\n",
    "        super(Discriminator, self).__init__()\n",
    "        self.ngpu = ngpu\n",
    "        self.main = nn.Sequential(\n",
    "            # input is (nc) x 64 x 64\n",
    "            nn.Conv2d(nc, ndf, 4, 2, 1, bias=False),\n",
    "            nn.LeakyReLU(0.2, inplace=True),\n",
    "            # state size. (ndf) x 32 x 32\n",
    "            nn.Conv2d(ndf, ndf * 2, 4, 2, 1, bias=False),\n",
    "            nn.BatchNorm2d(ndf * 2),\n",
    "            nn.LeakyReLU(0.2, inplace=True),\n",
    "            # state size. (ndf*2) x 16 x 16\n",
    "            nn.Conv2d(ndf * 2, ndf * 4, 4, 2, 1, bias=False),\n",
    "            nn.BatchNorm2d(ndf * 4),\n",
    "            nn.LeakyReLU(0.2, inplace=True),\n",
    "            # state size. (ndf*4) x 8 x 8\n",
    "            nn.Conv2d(ndf * 4, ndf * 8, 4, 2, 1, bias=False),\n",
    "            nn.BatchNorm2d(ndf * 8),\n",
    "            nn.LeakyReLU(0.2, inplace=True),\n",
    "            # state size. (ndf*8) x 4 x 4\n",
    "            nn.Conv2d(ndf * 8, 1, 4, 1, 0, bias=False),\n",
    "            nn.Sigmoid()\n",
    "        )\n",
    "\n",
    "    def forward(self, input):\n",
    "        return self.main(input)"
   ]
  },
  {
   "attachments": {},
   "cell_type": "markdown",
   "metadata": {},
   "source": [
    "The code above creates the Discriminator neural network, which is a convolutional neural network that takes an image as input and outputs a scalar probability that the input image is real or fake. The discriminator is designed to have four convolutional layers with batch normalization and leaky ReLU activation functions. The first convolutional layer has a kernel size of 4 and a stride of 2, and it takes the input image that has nc channels and a size of 64x64 pixels. The number of output channels of the first convolutional layer is ndf, which is a hyperparameter that controls the number of filters in the network. The output feature maps from each convolutional layer are downsampled by a factor of 2 by setting the stride of the convolutional layer to 2. The final output of the discriminator is a scalar value between 0 and 1, which is achieved by applying a sigmoid function to the output of the last convolutional layer.\n",
    "\n",
    "The code applies the weights_init function to randomly initialize all weights of the discriminator to have a mean of 0 and a standard deviation of 0.2. The ngpu argument is used to specify the number of GPUs to use for training. If ngpu > 1, the code wraps the model with the nn.DataParallel class to enable parallel computation across multiple GPUs. The print(netD) statement is used to print the architecture of the discriminator network."
   ]
  },
  {
   "cell_type": "code",
   "execution_count": null,
   "metadata": {},
   "outputs": [],
   "source": [
    "# Create the Discriminator\n",
    "netD = Discriminator(ngpu).to(device)\n",
    "\n",
    "# Handle multi-gpu if desired\n",
    "if (device.type == 'cuda') and (ngpu > 1):\n",
    "    netD = nn.DataParallel(netD, list(range(ngpu)))\n",
    "    \n",
    "# Apply the weights_init function to randomly initialize all weights\n",
    "#  to mean=0, stdev=0.2.\n",
    "netD.apply(weights_init)\n",
    "\n",
    "# Print the model\n",
    "print(netD)"
   ]
  },
  {
   "attachments": {},
   "cell_type": "markdown",
   "metadata": {},
   "source": [
    "## Loss Function\n",
    "\n",
    "- criterion: a Binary Cross Entropy loss function that measures the difference between two probability distributions, in this case between the predicted output and the target output for both the real and fake samples.\n",
    "- fixed_noise: a fixed batch of noise vectors that will be used to visualize the progression of the generator's output during training.\n",
    "- real_label: a label used to indicate real samples during training.\n",
    "- fake_label: a label used to indicate fake samples during training.\n",
    "- optimizerD: an Adam optimizer that updates the parameters of the discriminator model using the gradients of the loss function with respect to the model parameters.\n",
    "- optimizerG: an Adam optimizer that updates the parameters of the generator model using the gradients of the loss function with respect to the model parameters."
   ]
  },
  {
   "cell_type": "code",
   "execution_count": 4,
   "metadata": {},
   "outputs": [
    {
     "ename": "NameError",
     "evalue": "name 'device' is not defined",
     "output_type": "error",
     "traceback": [
      "\u001b[0;31m---------------------------------------------------------------------------\u001b[0m",
      "\u001b[0;31mNameError\u001b[0m                                 Traceback (most recent call last)",
      "Cell \u001b[0;32mIn [4], line 6\u001b[0m\n\u001b[1;32m      2\u001b[0m criterion \u001b[39m=\u001b[39m nn\u001b[39m.\u001b[39mBCELoss()\n\u001b[1;32m      4\u001b[0m \u001b[39m# Create batch of latent vectors that we will use to visualize\u001b[39;00m\n\u001b[1;32m      5\u001b[0m \u001b[39m#  the progression of the generator\u001b[39;00m\n\u001b[0;32m----> 6\u001b[0m fixed_noise \u001b[39m=\u001b[39m torch\u001b[39m.\u001b[39mrandn(\u001b[39m64\u001b[39m, nz, \u001b[39m1\u001b[39m, \u001b[39m1\u001b[39m, device\u001b[39m=\u001b[39mdevice)\n\u001b[1;32m      8\u001b[0m \u001b[39m# Establish convention for real and fake labels during training\u001b[39;00m\n\u001b[1;32m      9\u001b[0m real_label \u001b[39m=\u001b[39m \u001b[39m1\u001b[39m\n",
      "\u001b[0;31mNameError\u001b[0m: name 'device' is not defined"
     ]
    }
   ],
   "source": [
    "# Initialize BCELoss function\n",
    "criterion = nn.BCELoss()\n",
    "\n",
    "# Create batch of latent vectors that we will use to visualize\n",
    "#  the progression of the generator\n",
    "fixed_noise = torch.randn(64, nz, 1, 1, device=device)\n",
    "\n",
    "# Establish convention for real and fake labels during training\n",
    "real_label = 1\n",
    "fake_label = 0\n",
    "\n",
    "# Setup Adam optimizers for both G and D\n",
    "optimizerD = optim.Adam(netD.parameters(), lr=lr, betas=(beta1, 0.999))\n",
    "optimizerG = optim.Adam(netG.parameters(), lr=lr, betas=(beta1, 0.999))"
   ]
  },
  {
   "attachments": {},
   "cell_type": "markdown",
   "metadata": {},
   "source": [
    "## Training\n",
    "\n",
    "This is the training loop for the GAN. Here's what's happening in each iteration:\n",
    "\n",
    "- The Discriminator (D) is updated to maximize the objective function log(D(x)) + log(1 - D(G(z))), where x is a real image and G(z) is the fake image generated by the Generator (G) from a noise vector z.\n",
    "- First, the real batch of images is fed to the Discriminator and the output is compared to the expected output (which is 1, as they are real images) to calculate the loss errD_real. This loss is backpropagated through D.\n",
    "- Then, a fake batch of images is generated by G from random noise vectors, and fed to the Discriminator. The output is compared to the expected output (which is 0, as they are fake images) to calculate the loss errD_fake. This loss is backpropagated through D.\n",
    "- The losses errD_real and errD_fake are added to get the total loss errD, which is used to update the weights of D using the Adam optimizer.\n",
    "- The Generator is updated to maximize the objective function log(D(G(z))).\n",
    "- First, a fake batch of images is generated by G from random noise vectors, and fed to the Discriminator. The output is compared to the expected output (which is 1, as they are fake images but we want D to classify them as real) to calculate the loss errG. This loss is backpropagated through G.\n",
    "- The loss errG is used to update the weights of G using the Adam optimizer.\n",
    "- The losses errD and errG are saved for plotting later.\n",
    "- The fake images generated by G from a fixed set of noise vectors are saved for visualization.\n",
    "- The training loop runs for a fixed number of epochs, and at the end of each epoch, the Discriminator and Generator weights are saved to a file. After training is complete, the losses and generated images are plotted.\n",
    "\n",
    "\n",
    "\n",
    "\n"
   ]
  },
  {
   "cell_type": "code",
   "execution_count": null,
   "metadata": {},
   "outputs": [],
   "source": [
    "# Training Loop\n",
    "\n",
    "# Lists to keep track of progress\n",
    "img_list = []\n",
    "G_losses = []\n",
    "D_losses = []\n",
    "iters = 0\n",
    "\n",
    "print(\"Starting Training Loop...\")\n",
    "# For each epoch\n",
    "for epoch in range(num_epochs):\n",
    "    # For each batch in the dataloader\n",
    "    for i, data in enumerate(dataloader, 0):\n",
    "        \n",
    "        ############################\n",
    "        # (1) Update D network: maximize log(D(x)) + log(1 - D(G(z)))\n",
    "        ###########################\n",
    "        ## Train with all-real batch\n",
    "        netD.zero_grad()\n",
    "        # Format batch\n",
    "        real_cpu = data[0].to(device)\n",
    "        b_size = real_cpu.size(0)\n",
    "        label = torch.full((b_size,), real_label, dtype=torch.float, device=device)\n",
    "        # Forward pass real batch through D\n",
    "        output = netD(real_cpu).view(-1)\n",
    "        # Calculate loss on all-real batch\n",
    "        errD_real = criterion(output, label)\n",
    "        # Calculate gradients for D in backward pass\n",
    "        errD_real.backward()\n",
    "        D_x = output.mean().item()\n",
    "\n",
    "        ## Train with all-fake batch\n",
    "        # Generate batch of latent vectors\n",
    "        noise = torch.randn(b_size, nz, 1, 1, device=device)\n",
    "        # Generate fake image batch with G\n",
    "        fake = netG(noise)\n",
    "        label.fill_(fake_label)\n",
    "        # Classify all fake batch with D\n",
    "        output = netD(fake.detach()).view(-1)\n",
    "        # Calculate D's loss on the all-fake batch\n",
    "        errD_fake = criterion(output, label)\n",
    "        # Calculate the gradients for this batch\n",
    "        errD_fake.backward()\n",
    "        D_G_z1 = output.mean().item()\n",
    "        # Add the gradients from the all-real and all-fake batches\n",
    "        errD = errD_real + errD_fake\n",
    "        # Update D\n",
    "        optimizerD.step()\n",
    "\n",
    "        ############################\n",
    "        # (2) Update G network: maximize log(D(G(z)))\n",
    "        ###########################\n",
    "        netG.zero_grad()\n",
    "        label.fill_(real_label)  # fake labels are real for generator cost\n",
    "        # Since we just updated D, perform another forward pass of all-fake batch through D\n",
    "        output = netD(fake).view(-1)\n",
    "        # Calculate G's loss based on this output\n",
    "        errG = criterion(output, label)\n",
    "        # Calculate gradients for G\n",
    "        errG.backward()\n",
    "        D_G_z2 = output.mean().item()\n",
    "        # Update G\n",
    "        optimizerG.step()\n",
    "        \n",
    "        # Output training stats\n",
    "        if i % 50 == 0:\n",
    "            print('[%d/%d][%d/%d]\\tLoss_D: %.4f\\tLoss_G: %.4f\\tD(x): %.4f\\tD(G(z)): %.4f / %.4f'\n",
    "                  % (epoch, num_epochs, i, len(dataloader),\n",
    "                     errD.item(), errG.item(), D_x, D_G_z1, D_G_z2))\n",
    "        \n",
    "        # Save Losses for plotting later\n",
    "        G_losses.append(errG.item())\n",
    "        D_losses.append(errD.item())\n",
    "        \n",
    "        # Check how the generator is doing by saving G's output on fixed_noise\n",
    "        if (iters % 500 == 0) or ((epoch == num_epochs-1) and (i == len(dataloader)-1)):\n",
    "            with torch.no_grad():\n",
    "                fake = netG(fixed_noise).detach().cpu()\n",
    "            img_list.append(vutils.make_grid(fake, padding=2, normalize=True))\n",
    "            \n",
    "        iters += 1"
   ]
  },
  {
   "attachments": {},
   "cell_type": "markdown",
   "metadata": {},
   "source": [
    "## Results\n",
    "\n",
    "The code above generates a plot showing the Generator and Discriminator loss during training. The x-axis represents the iterations, and the y-axis represents the loss. The blue line corresponds to the Generator loss, and the orange line corresponds to the Discriminator loss. The plot can be useful for visualizing the convergence of the model during training."
   ]
  },
  {
   "cell_type": "code",
   "execution_count": null,
   "metadata": {},
   "outputs": [],
   "source": [
    "plt.figure(figsize=(10,5))\n",
    "plt.title(\"Generator and Discriminator Loss During Training\")\n",
    "plt.plot(G_losses,label=\"G\")\n",
    "plt.plot(D_losses,label=\"D\")\n",
    "plt.xlabel(\"iterations\")\n",
    "plt.ylabel(\"Loss\")\n",
    "plt.legend()\n",
    "plt.show()"
   ]
  },
  {
   "attachments": {},
   "cell_type": "markdown",
   "metadata": {},
   "source": [
    "## Visualization"
   ]
  },
  {
   "cell_type": "code",
   "execution_count": null,
   "metadata": {},
   "outputs": [],
   "source": [
    "#%%capture\n",
    "fig = plt.figure(figsize=(8,8))\n",
    "plt.axis(\"off\")\n",
    "ims = [[plt.imshow(np.transpose(i,(1,2,0)), animated=True)] for i in img_list]\n",
    "ani = animation.ArtistAnimation(fig, ims, interval=1000, repeat_delay=1000, blit=True)\n",
    "\n",
    "HTML(ani.to_jshtml())"
   ]
  },
  {
   "attachments": {},
   "cell_type": "markdown",
   "metadata": {},
   "source": [
    "## Comparison Between Real and Fake Images"
   ]
  },
  {
   "cell_type": "code",
   "execution_count": null,
   "metadata": {},
   "outputs": [],
   "source": [
    "# Grab a batch of real images from the dataloader\n",
    "real_batch = next(iter(dataloader))\n",
    "\n",
    "# Plot the real images\n",
    "plt.figure(figsize=(15,15))\n",
    "plt.subplot(1,2,1)\n",
    "plt.axis(\"off\")\n",
    "plt.title(\"Real Images\")\n",
    "plt.imshow(np.transpose(vutils.make_grid(real_batch[0].to(device)[:64], padding=5, normalize=True).cpu(),(1,2,0)))\n",
    "\n",
    "# Plot the fake images from the last epoch\n",
    "plt.subplot(1,2,2)\n",
    "plt.axis(\"off\")\n",
    "plt.title(\"Fake Images\")\n",
    "plt.imshow(np.transpose(img_list[-1],(1,2,0)))\n",
    "plt.show()"
   ]
  }
 ],
 "metadata": {
  "kernelspec": {
   "display_name": "Python 3",
   "language": "python",
   "name": "python3"
  },
  "language_info": {
   "codemirror_mode": {
    "name": "ipython",
    "version": 3
   },
   "file_extension": ".py",
   "mimetype": "text/x-python",
   "name": "python",
   "nbconvert_exporter": "python",
   "pygments_lexer": "ipython3",
   "version": "3.8.2"
  },
  "orig_nbformat": 4,
  "vscode": {
   "interpreter": {
    "hash": "31f2aee4e71d21fbe5cf8b01ff0e069b9275f58929596ceb00d14d90e3e16cd6"
   }
  }
 },
 "nbformat": 4,
 "nbformat_minor": 2
}
